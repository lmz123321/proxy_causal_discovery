{
 "cells": [
  {
   "cell_type": "code",
   "execution_count": 1,
   "id": "3c4ea623",
   "metadata": {},
   "outputs": [],
   "source": [
    "# typical setting: d=5, p=0.3, k=1, size=2500\n",
    "# sensitivity to:\n",
    "# - k=1,2,3,4\n",
    "# - size=1000,1500,2000,2500"
   ]
  },
  {
   "cell_type": "code",
   "execution_count": 2,
   "id": "ec809847",
   "metadata": {},
   "outputs": [],
   "source": [
    "import numpy as np\n",
    "import matplotlib.pyplot as plt\n",
    "from tqdm import tqdm\n",
    "import multiprocess as mp\n",
    "from itertools import product\n",
    "\n",
    "import sys\n",
    "sys.path.append('../tools/')\n",
    "from data_generator import Data\n",
    "from adjmatrix import erdoes_renyi\n",
    "from time_discover import time_discover,fci_time\n",
    "from metric import precision,recall,f1\n",
    "from util import merge,remove_none\n",
    "from jsonio import _save,_load\n",
    "from plot import markers"
   ]
  },
  {
   "cell_type": "code",
   "execution_count": null,
   "id": "5191e091",
   "metadata": {},
   "outputs": [],
   "source": [
    "# !!NOTE!!\n",
    "# we modify fci alg. to promote lag edge detected in the real-world dataset\n",
    "# to reproduce the simulation result, one needs to \n",
    "# 1. set real_world=False"
   ]
  },
  {
   "cell_type": "markdown",
   "id": "2c6222f9",
   "metadata": {},
   "source": [
    "#### function and parameters"
   ]
  },
  {
   "cell_type": "code",
   "execution_count": 3,
   "id": "72fc26de",
   "metadata": {},
   "outputs": [],
   "source": [
    "def work(params,num_trials=100):\n",
    "    '''\n",
    "    params = tuple(d,prob,k,size)\n",
    "    '''\n",
    "    d = 5; prob = 0.3\n",
    "    k,size = params\n",
    "    beta = np.sqrt(10) if k>=3 else 1.0\n",
    "    \n",
    "    logs = list()\n",
    "    for trial in range(num_trials):\n",
    "        # generate data\n",
    "        adj = erdoes_renyi(d,prob)\n",
    "        dataer = Data(adj,k,size,beta=beta)\n",
    "        dataset,node_names = dataer.pddata.values, dataer.pddata.columns\n",
    "        \n",
    "        try:\n",
    "            pcdag = time_discover(dataset,node_names,d,k,citest='fisherz')\n",
    "            # evaluation\n",
    "            pr = precision(pcdag.edges,dataer.sdag.edges)\n",
    "            re = recall(pcdag.edges,dataer.sdag.edges)\n",
    "            f1score = f1(pcdag.edges,dataer.sdag.edges)\n",
    "            log = [pr,re,f1score]\n",
    "        except AssertionError:\n",
    "            log = [None,None,None]\n",
    "            \n",
    "        logs.append(log)\n",
    "    return logs"
   ]
  },
  {
   "cell_type": "code",
   "execution_count": 4,
   "id": "47f4a219",
   "metadata": {},
   "outputs": [],
   "source": [
    "rangek=[1,2,3,4]; rangesize=[600,800,1000,1200]"
   ]
  },
  {
   "cell_type": "code",
   "execution_count": 5,
   "id": "a564a8c8",
   "metadata": {},
   "outputs": [],
   "source": [
    "tuple_of_params = product(rangek, rangesize)"
   ]
  },
  {
   "cell_type": "code",
   "execution_count": 6,
   "id": "4f1aaed5",
   "metadata": {},
   "outputs": [
    {
     "name": "stderr",
     "output_type": "stream",
     "text": [
      "100%|███████████████████████████████████████████████████████████████████████████████████████████████████████████████████████████████████████| 16/16 [03:19<00:00, 12.48s/it]\n"
     ]
    }
   ],
   "source": [
    "p = mp.Pool(8)\n",
    "record = list(tqdm(iterable=(p.imap(work, tuple_of_params)), total=len(rangek)*len(rangesize)))\n",
    "p.close();p.join()"
   ]
  },
  {
   "cell_type": "code",
   "execution_count": 7,
   "id": "6c036b9a",
   "metadata": {},
   "outputs": [],
   "source": [
    "_save(record,'record.json')"
   ]
  },
  {
   "cell_type": "code",
   "execution_count": 8,
   "id": "162fbda7",
   "metadata": {},
   "outputs": [],
   "source": [
    "# 4(k),4(size),100(num_trials),3(prec,recall,f1score)\n",
    "record = np.array(record).reshape(len(rangek),len(rangesize),100,3)"
   ]
  },
  {
   "cell_type": "markdown",
   "id": "ad7a4578",
   "metadata": {},
   "source": [
    "#### sensitiveity to k"
   ]
  },
  {
   "cell_type": "code",
   "execution_count": 9,
   "id": "4e7fb859",
   "metadata": {},
   "outputs": [],
   "source": [
    "indsize = -1\n",
    "_record = record[:,indsize,:]"
   ]
  },
  {
   "cell_type": "code",
   "execution_count": 10,
   "id": "52c15871",
   "metadata": {},
   "outputs": [
    {
     "name": "stdout",
     "output_type": "stream",
     "text": [
      "1 rows with None.\n",
      "3 rows with None.\n",
      "3 rows with None.\n",
      "0 rows with None.\n"
     ]
    }
   ],
   "source": [
    "avgs = list(); stds = list()\n",
    "for indk in range(len(rangek)):\n",
    "    __record = remove_none(_record[indk,:])\n",
    "    avg,std = __record.mean(0), __record.std(0)\n",
    "    avgs.append(avg); stds.append(std)\n",
    "avgs = np.array(avgs); stds = np.array(stds)"
   ]
  },
  {
   "cell_type": "code",
   "execution_count": 11,
   "id": "77b7d56e",
   "metadata": {
    "scrolled": true
   },
   "outputs": [
    {
     "name": "stdout",
     "output_type": "stream",
     "text": [
      "\u001b[1m<\u001b[0m\u001b[1;95mFigure\u001b[0m\u001b[39m size 432x288 with \u001b[0m\u001b[1;36m1\u001b[0m\u001b[39m Axes\u001b[0m\u001b[1m>\u001b[0m\n"
     ]
    },
    {
     "data": {
      "image/png": "[encoded data removed]"
     },
     "metadata": {
      "needs_background": "light"
     },
     "output_type": "display_data"
    },
    {
     "name": "stdout",
     "output_type": "stream",
     "text": [
      "\u001b[1m<\u001b[0m\u001b[1;95mFigure\u001b[0m\u001b[39m size 432x288 with \u001b[0m\u001b[1;36m1\u001b[0m\u001b[39m Axes\u001b[0m\u001b[1m>\u001b[0m\n"
     ]
    },
    {
     "data": {
      "image/png": "[encoded data removed]"
     },
     "metadata": {
      "needs_background": "light"
     },
     "output_type": "display_data"
    },
    {
     "name": "stdout",
     "output_type": "stream",
     "text": [
      "\u001b[1m<\u001b[0m\u001b[1;95mFigure\u001b[0m\u001b[39m size 432x288 with \u001b[0m\u001b[1;36m1\u001b[0m\u001b[39m Axes\u001b[0m\u001b[1m>\u001b[0m\n"
     ]
    },
    {
     "data": {
      "image/png": "[encoded data removed]"
     },
     "metadata": {
      "needs_background": "light"
     },
     "output_type": "display_data"
    }
   ],
   "source": [
    "metrics = ['precision','recall','f1-score']\n",
    "for indm,metric in enumerate(metrics):\n",
    "    plt.figure()\n",
    "    plt.plot(rangek,avgs[:,indm],marker=next(markers))\n",
    "    #plt.fill_between(rangek,avgs[:,indm]+stds[:,indm],avgs[:,indm]-stds[:,indm],alpha=.2)\n",
    "    plt.xlabel('k');plt.ylabel(metric)\n",
    "    plt.grid(alpha=.2); plt.ylim(0.3,1.2)"
   ]
  },
  {
   "cell_type": "markdown",
   "id": "78bcd513",
   "metadata": {},
   "source": [
    "#### sensitivity to sample size"
   ]
  },
  {
   "cell_type": "code",
   "execution_count": 12,
   "id": "49312582",
   "metadata": {},
   "outputs": [],
   "source": [
    "indk = 0\n",
    "_record = record[indk,:]"
   ]
  },
  {
   "cell_type": "code",
   "execution_count": 13,
   "id": "5852c558",
   "metadata": {},
   "outputs": [
    {
     "name": "stdout",
     "output_type": "stream",
     "text": [
      "3 rows with None.\n",
      "4 rows with None.\n",
      "3 rows with None.\n",
      "1 rows with None.\n"
     ]
    }
   ],
   "source": [
    "avgs = list(); stds = list()\n",
    "for indsize in range(len(rangesize)):\n",
    "    __record = remove_none(_record[indsize,:])\n",
    "    avg,std = __record.mean(0), __record.std(0)\n",
    "    avgs.append(avg); stds.append(std)\n",
    "avgs = np.array(avgs); stds = np.array(stds)"
   ]
  },
  {
   "cell_type": "code",
   "execution_count": 14,
   "id": "9295ea78",
   "metadata": {
    "scrolled": true
   },
   "outputs": [
    {
     "name": "stdout",
     "output_type": "stream",
     "text": [
      "\u001b[1m<\u001b[0m\u001b[1;95mFigure\u001b[0m\u001b[39m size 432x288 with \u001b[0m\u001b[1;36m1\u001b[0m\u001b[39m Axes\u001b[0m\u001b[1m>\u001b[0m\n"
     ]
    },
    {
     "data": {
      "image/png": "[encoded data removed]"
     },
     "metadata": {
      "needs_background": "light"
     },
     "output_type": "display_data"
    },
    {
     "name": "stdout",
     "output_type": "stream",
     "text": [
      "\u001b[1m<\u001b[0m\u001b[1;95mFigure\u001b[0m\u001b[39m size 432x288 with \u001b[0m\u001b[1;36m1\u001b[0m\u001b[39m Axes\u001b[0m\u001b[1m>\u001b[0m\n"
     ]
    },
    {
     "data": {
      "image/png": "[encoded data removed]"
     },
     "metadata": {
      "needs_background": "light"
     },
     "output_type": "display_data"
    },
    {
     "name": "stdout",
     "output_type": "stream",
     "text": [
      "\u001b[1m<\u001b[0m\u001b[1;95mFigure\u001b[0m\u001b[39m size 432x288 with \u001b[0m\u001b[1;36m1\u001b[0m\u001b[39m Axes\u001b[0m\u001b[1m>\u001b[0m\n"
     ]
    },
    {
     "data": {
      "image/png": "[encoded data removed]"
     },
     "metadata": {
      "needs_background": "light"
     },
     "output_type": "display_data"
    }
   ],
   "source": [
    "metrics = ['precision','recall','f1-score']\n",
    "for indm,metric in enumerate(metrics):\n",
    "    plt.figure()\n",
    "    plt.plot(rangesize,avgs[:,indm],marker=next(markers))\n",
    "    #plt.fill_between(rangek,avgs[:,indm]+stds[:,indm],avgs[:,indm]-stds[:,indm],alpha=.2)\n",
    "    plt.xlabel('sample size');plt.ylabel(metric)\n",
    "    plt.grid(alpha=.2); plt.ylim(0.3,1.2)"
   ]
  },
  {
   "cell_type": "code",
   "execution_count": null,
   "id": "aeefb511",
   "metadata": {},
   "outputs": [],
   "source": []
  },
  {
   "cell_type": "code",
   "execution_count": null,
   "id": "56da19a8",
   "metadata": {},
   "outputs": [],
   "source": []
  }
 ],
 "metadata": {
  "kernelspec": {
   "display_name": "Python (Pytorch)",
   "language": "python",
   "name": "pytorch"
  },
  "language_info": {
   "codemirror_mode": {
    "name": "ipython",
    "version": 3
   },
   "file_extension": ".py",
   "mimetype": "text/x-python",
   "name": "python",
   "nbconvert_exporter": "python",
   "pygments_lexer": "ipython3",
   "version": "3.8.12"
  }
 },
 "nbformat": 4,
 "nbformat_minor": 5
}
